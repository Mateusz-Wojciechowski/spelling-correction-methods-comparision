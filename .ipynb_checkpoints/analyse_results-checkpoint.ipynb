{
 "cells": [
  {
   "cell_type": "code",
   "execution_count": null,
   "id": "initial_id",
   "metadata": {
    "ExecuteTime": {
     "end_time": "2024-10-29T11:49:56.713682800Z",
     "start_time": "2024-10-29T11:49:54.099328800Z"
    }
   },
   "outputs": [],
   "source": [
    "import pandas as pd\n",
    "from sklearn.metrics import accuracy_score, f1_score\n",
    "from sklearn.feature_extraction.text import TfidfVectorizer\n",
    "from scipy.spatial.distance import cosine\n",
    "from jellyfish import jaro_winkler_similarity, levenshtein_distance\n",
    "from nltk.metrics.distance import edit_distance as needleman_wunsch\n",
    "import numpy as np\n",
    "import matplotlib.pyplot as plt"
   ]
  },
  {
   "cell_type": "markdown",
   "id": "2b942756fe19a169",
   "metadata": {
    "collapsed": false,
    "jupyter": {
     "outputs_hidden": false
    }
   },
   "source": [
    "## Functions used for calculating metrics"
   ]
  },
  {
   "cell_type": "code",
   "execution_count": null,
   "id": "13cafa6d14e7fcba",
   "metadata": {
    "ExecuteTime": {
     "end_time": "2024-10-29T11:50:12.002613Z",
     "start_time": "2024-10-29T11:50:11.957050600Z"
    },
    "collapsed": false,
    "jupyter": {
     "outputs_hidden": false
    }
   },
   "outputs": [],
   "source": [
    "def calculate_cosine_similarity(correct_words, corrected_words):\n",
    "    vectorizer = TfidfVectorizer().fit(correct_words + corrected_words)\n",
    "    correct_vectors = vectorizer.transform(correct_words).toarray()\n",
    "    corrected_vectors = vectorizer.transform(corrected_words).toarray()\n",
    "    \n",
    "    similarities = []\n",
    "    for i in range(len(correct_words)):\n",
    "        if np.any(correct_vectors[i]) and np.any(corrected_vectors[i]):\n",
    "            similarity = 1 - cosine(correct_vectors[i], corrected_vectors[i])\n",
    "            similarities.append(similarity)\n",
    "        else:\n",
    "            similarities.append(np.nan) \n",
    "    \n",
    "    return similarities\n",
    "\n",
    "def calculate_jaro_winkler(correct_words, corrected_words):\n",
    "    return [jaro_winkler_similarity(cw, ccw) for cw, ccw in zip(correct_words, corrected_words)]\n",
    "\n",
    "def calculate_levenshtein(correct_words, corrected_words):\n",
    "    return [levenshtein_distance(cw, ccw) for cw, ccw in zip(correct_words, corrected_words)]\n",
    "\n",
    "def calculate_accuracy(correct_words, corrected_words):\n",
    "    return accuracy_score(correct_words, corrected_words)"
   ]
  },
  {
   "cell_type": "markdown",
   "id": "5034e5b9094d344",
   "metadata": {
    "collapsed": false,
    "jupyter": {
     "outputs_hidden": false
    }
   },
   "source": [
    "## Calculating metrics for each dataset and each correction approach"
   ]
  },
  {
   "cell_type": "code",
   "execution_count": null,
   "id": "280f9e6e6d71cad",
   "metadata": {
    "ExecuteTime": {
     "end_time": "2024-10-29T12:01:58.446241200Z",
     "start_time": "2024-10-29T12:01:40.379502700Z"
    },
    "collapsed": false,
    "jupyter": {
     "outputs_hidden": false
    }
   },
   "outputs": [],
   "source": [
    "models = ['symspell_correction', 'bert_correction', 'lstm_cnn_correction']\n",
    "files = [\"data/small_typo_errors_corrected.csv\", \"data/transposition_errors_lowercase_corrected.csv\",  \"data/fonetic_errors_lowercase_corrected.csv\", \"data/other_errors_lowercase_corrected.csv\"]\n",
    "results = {}\n",
    "\n",
    "for file in files:\n",
    "    df = pd.read_csv(file)\n",
    "    file_results = {}\n",
    "    \n",
    "    for model in models:\n",
    "        correct_words = df['correct_spelling'].astype(str).tolist()\n",
    "        corrected_words = df[model].astype(str).tolist()\n",
    "    \n",
    "        cosine_similarities = calculate_cosine_similarity(correct_words, corrected_words)\n",
    "        jaro_winkler_similarities = calculate_jaro_winkler(correct_words, corrected_words)\n",
    "        levenshtein_distances = calculate_levenshtein(correct_words, corrected_words)\n",
    "        accuracy = calculate_accuracy(correct_words, corrected_words)\n",
    "    \n",
    "        file_results[model] = {\n",
    "            'Average Cosine Similarity': np.nanmean(cosine_similarities),\n",
    "            'Average Jaro-Winkler Similarity': np.mean(jaro_winkler_similarities),\n",
    "            'Average Levenshtein Distance': np.mean(levenshtein_distances),\n",
    "            'Accuracy': accuracy,\n",
    "        }\n",
    "        \n",
    "    results[file] = file_results"
   ]
  },
  {
   "cell_type": "markdown",
   "id": "22d4c852-30de-4358-b2fd-8f7ceac5591c",
   "metadata": {},
   "source": [
    "## Plotting the results"
   ]
  },
  {
   "cell_type": "code",
   "execution_count": null,
   "id": "73d192d4-c6f0-4299-81bd-e57e2894aa3a",
   "metadata": {},
   "outputs": [],
   "source": [
    "metrics = ['Average Cosine Similarity', 'Average Jaro-Winkler Similarity', 'Average Levenshtein Distance', 'Accuracy']\n",
    "for metric in metrics:\n",
    "    labels = [file[5:] for file in files] \n",
    "    x = np.arange(len(labels))\n",
    "    width = 0.25\n",
    "    \n",
    "    fig, ax = plt.subplots(figsize=(10, 6))\n",
    "    \n",
    "    for i, model in enumerate(models):\n",
    "        metric_values = [results[file][model][metric] for file in files]\n",
    "        ax.bar(x + i * width, metric_values, width, label=model)\n",
    "    \n",
    "    ax.set_xlabel('File')\n",
    "    ax.set_ylabel(metric)\n",
    "    ax.set_title(f'{metric} for Different Correction Models')\n",
    "    ax.set_xticks(x + width)\n",
    "    ax.set_xticklabels(labels, rotation=45)\n",
    "    ax.legend(title=\"Correction Model\")\n",
    "    \n",
    "    plt.tight_layout()\n",
    "    plt.show()"
   ]
  },
  {
   "cell_type": "code",
   "execution_count": null,
   "id": "aaaa7375dcda4df3",
   "metadata": {
    "ExecuteTime": {
     "end_time": "2024-10-29T11:52:55.045255Z",
     "start_time": "2024-10-29T11:52:55.022221800Z"
    },
    "collapsed": false,
    "jupyter": {
     "outputs_hidden": false
    }
   },
   "outputs": [],
   "source": [
    "def calculate_jaccard_similarity(text1, text2):\n",
    "    set1, set2 = set(text1.split()), set(text2.split())\n",
    "    intersection = len(set1.intersection(set2))\n",
    "    union = len(set1.union(set2))\n",
    "    return intersection / union if union != 0 else 0\n",
    "\n",
    "def calculate_levenshtein(text1, text2):\n",
    "    return levenshtein_distance(text1, text2)"
   ]
  },
  {
   "cell_type": "code",
   "execution_count": null,
   "id": "5b335a8f57f0b46e",
   "metadata": {
    "collapsed": false,
    "jupyter": {
     "outputs_hidden": false
    }
   },
   "outputs": [],
   "source": [
    "results = {model: {'Levenshtein Distance': [], 'Jaccard-Similarity': []} \n",
    "           for model in ['symspell_correction', 'bert_correction', 'lstm_cnn_correction']}"
   ]
  },
  {
   "cell_type": "code",
   "execution_count": null,
   "id": "438ad0ce-31a7-4380-945e-8354e8a5e6e5",
   "metadata": {},
   "outputs": [],
   "source": [
    "df = pd.read_csv(\"articles_augmented_corrected.csv\")\n",
    "for index, row in df.iterrows():\n",
    "    correct_text = row['correct_text']\n",
    "    for model in models:\n",
    "        corrected_text = row[model]\n",
    "        \n",
    "        lev_dist = calculate_levenshtein(correct_text, corrected_text)\n",
    "        results[model]['Levenshtein Distance'].append(lev_dist)\n",
    "        \n",
    "        jaccard_sim = calculate_jaccard_similarity(correct_text, corrected_text)\n",
    "        results[model]['Jaccard Similarity'].append(jaccard_sim)\n",
    "\n",
    "for model, metrics in results.items():\n",
    "    print(f\"\\nMetrics for {model}:\")\n",
    "    for metric, values in metrics.items():\n",
    "        print(f\"{metric}: {np.mean(values):.4f}\")"
   ]
  },
  {
   "cell_type": "code",
   "execution_count": null,
   "id": "210f92b2-7c2a-4ae4-a9a9-9b0f145e50e6",
   "metadata": {},
   "outputs": [],
   "source": []
  }
 ],
 "metadata": {
  "kernelspec": {
   "display_name": "Python 3 (ipykernel)",
   "language": "python",
   "name": "python3"
  },
  "language_info": {
   "codemirror_mode": {
    "name": "ipython",
    "version": 3
   },
   "file_extension": ".py",
   "mimetype": "text/x-python",
   "name": "python",
   "nbconvert_exporter": "python",
   "pygments_lexer": "ipython3",
   "version": "3.11.9"
  }
 },
 "nbformat": 4,
 "nbformat_minor": 5
}
